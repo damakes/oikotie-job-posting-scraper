{
 "cells": [
  {
   "attachments": {
    "image.png": {
     "image/png": "[encoded data removed]"
    }
   },
   "cell_type": "markdown",
   "metadata": {},
   "source": [
    "![image.png](attachment:image.png)"
   ]
  },
  {
   "cell_type": "code",
   "execution_count": 55,
   "metadata": {},
   "outputs": [
    {
     "name": "stdout",
     "output_type": "stream",
     "text": [
      "# Sitemaps\n",
      "Sitemap: https://tyopaikat.oikotie.fi/sitemaps/sitemap.xml\n",
      "\n",
      "# Default\n",
      "User-agent: *\n",
      "Crawl-delay: 5\n",
      "# CSS, JS, Images\n",
      "Allow: /misc/*.css$\n",
      "Allow: /misc/*.css?\n",
      "Allow: /misc/*.js$\n",
      "Allow: /misc/*.js?\n",
      "Allow: /misc/*.gif\n",
      "Allow: /misc/*.jpg\n",
      "Allow: /misc/*.jpeg\n",
      "Allow: /misc/*.png\n",
      "Allow: /modules/*.css$\n",
      "Allow: /modules/*.css?\n",
      "Allow: /modules/*.js$\n",
      "Allow: /modules/*.js?\n",
      "Allow: /modules/*.gif\n",
      "Allow: /modules/*.jpg\n",
      "Allow: /modules/*.jpeg\n",
      "Allow: /modules/*.png\n",
      "Allow: /profiles/*.css$\n",
      "Allow: /profiles/*.css?\n",
      "Allow: /profiles/*.js$\n",
      "Allow: /profiles/*.js?\n",
      "Allow: /profiles/*.gif\n",
      "Allow: /profiles/*.jpg\n",
      "Allow: /profiles/*.jpeg\n",
      "Allow: /profiles/*.png\n",
      "Allow: /themes/*.css$\n",
      "Allow: /themes/*.css?\n",
      "Allow: /themes/*.js$\n",
      "Allow: /themes/*.js?\n",
      "Allow: /themes/*.gif\n",
      "Allow: /themes/*.jpg\n",
      "Allow: /themes/*.jpeg\n",
      "Allow: /themes/*.png\n",
      "# Directories\n",
      "Disallow: /includes/\n",
      "Disallow: /misc/\n",
      "Disallow: /modules/\n",
      "Disallow: /profiles/\n",
      "Disallow: /scripts/\n",
      "Disallow: /themes/\n",
      "# Files\n",
      "Disallow: /CHANGELOG.txt\n",
      "Disallow: /cron.php\n",
      "Disallow: /INSTALL.mysql.txt\n",
      "Disallow: /INSTALL.pgsql.txt\n",
      "Disallow: /INSTALL.sqlite.txt\n",
      "Disallow: /install.php\n",
      "Disallow: /INSTALL.txt\n",
      "Disallow: /LICENSE.txt\n",
      "Disallow: /MAINTAINERS.txt\n",
      "Disallow: /update.php\n",
      "Disallow: /UPGRADE.txt\n",
      "Disallow: /xmlrpc.php\n",
      "# Paths (clean URLs)\n",
      "Disallow: /admin/\n",
      "Disallow: /comment/reply/\n",
      "Disallow: /filter/tips/\n",
      "Disallow: /node/add/\n",
      "Disallow: /search/\n",
      "Disallow: /user/register/\n",
      "Disallow: /user/password/\n",
      "Disallow: /user/login/\n",
      "Disallow: /user/logout/\n",
      "# Paths (no clean URLs)\n",
      "Disallow: /?q=admin/\n",
      "Disallow: /?q=comment/reply/\n",
      "Disallow: /?q=filter/tips/\n",
      "Disallow: /?q=node/add/\n",
      "Disallow: /?q=search/\n",
      "Disallow: /?q=user/password/\n",
      "Disallow: /?q=user/register/\n",
      "Disallow: /?q=user/login/\n",
      "Disallow: /?q=user/logout/\n",
      "\n",
      "# Disallow previews/etc.\n",
      "Disallow: /preview/\n",
      "Disallow: /esikatselu/\n",
      "\n",
      "# Disallow int-stats\n",
      "Disallow: /oikotie_tyopaikat_stat\n",
      "\n",
      "# Disallow Ilmoitusliittymä (except frontpage)\n",
      "Disallow: /tyonantajalle/ilmoitusliittyma/\n",
      "\n",
      "# Obsolete content\n",
      "Disallow: /doc\n",
      "Disallow: /rest\n",
      "\n"
     ]
    }
   ],
   "source": [
    "import requests\n",
    "from bs4 import BeautifulSoup\n",
    "\n",
    "robots_url = \"https://tyopaikat.oikotie.fi/robots.txt\"\n",
    "print(requests.get(robots_url).text)"
   ]
  },
  {
   "cell_type": "markdown",
   "metadata": {},
   "source": [
    "***Crawl delay of 5 seconds is specified, meaning you should wait at least 5 seconds between requests.***"
   ]
  },
  {
   "cell_type": "code",
   "execution_count": 81,
   "metadata": {},
   "outputs": [
    {
     "name": "stdout",
     "output_type": "stream",
     "text": [
      "Job Title: Jr. Analyytikko pankkisektorille, Helsinki\n",
      "  Company: Academic Work\n",
      "  Info: https://tyopaikat.oikotie.fi/avoimet-tyopaikat/jr-analyytikko-pankkisektorille-helsinki/1869978\n",
      "----------------------------------------\n",
      "Job Title: Jr. Analyst for the banking sector, Helsinki\n",
      "  Company: Academic Work\n",
      "  Info: https://tyopaikat.oikotie.fi/avoimet-tyopaikat/jr-analyst-for-the-banking-sector-helsinki/1869942\n",
      "----------------------------------------\n",
      "Job Title: Data Engineer, Aller Media\n",
      "  Company: Academic Work\n",
      "  Info: https://tyopaikat.oikotie.fi/avoimet-tyopaikat/data-engineer-aller-media/1866529\n",
      "----------------------------------------\n",
      "Job Title: Data Engineer, Aller Media\n",
      "  Company: Academic Work\n",
      "  Info: https://tyopaikat.oikotie.fi/avoimet-tyopaikat/data-engineer-aller-media/1866528\n",
      "----------------------------------------\n",
      "Job Title: Data Engineer, Aller Media\n",
      "  Company: Academic Work Consulting Oy\n",
      "  Info: https://tyopaikat.oikotie.fi/ilmoitukset/te/12381813/data-engineer-aller-media\n",
      "----------------------------------------\n",
      "Job Title: Machine Learning Engineer\n",
      "  Company: Norsepower Oy Ltd\n",
      "  Info: https://tyopaikat.oikotie.fi/ilmoitukset/te/12381219/machine-learning-engineer\n",
      "----------------------------------------\n",
      "Job Title: Senior Cloud Platform Engineer (Core, Azure)\n",
      "  Company: AlphaSense Oy\n",
      "  Info: https://tyopaikat.oikotie.fi/ilmoitukset/te/12352678/senior-cloud-platform-engineer-core-azure\n",
      "----------------------------------------\n"
     ]
    }
   ],
   "source": [
    "import time\n",
    "\n",
    "url = 'https://tyopaikat.oikotie.fi/tyopaikat/helsinki/it-tech?jarjestys=uusimmat&kaupunki=helsinki,vantaa,tuusula,kerava,sipoo,porvoo&toimiala=it-tech&hakusana=python'\n",
    "\n",
    "time.sleep(5)\n",
    "\n",
    "res = requests.get(url)\n",
    "soup = BeautifulSoup(res.content, 'lxml')\n",
    "\n",
    "job_posts = soup.find_all('div', class_='body')\n",
    "\n",
    "for post in job_posts:\n",
    "  html_tag = post.find('a', {'data-e2e-component': 'job-ad-list-item'})\n",
    "  title = html_tag.find('span', class_='text-clamped break-word').text.strip()\n",
    "  employer = post.find('span', class_='text-clamped employer break-word').text.strip()\n",
    "  link = html_tag['href']\n",
    "  \n",
    "  print(f'Job Title: {title}')\n",
    "  print(f'  Company: {employer}')\n",
    "  print(f'  Info: https://tyopaikat.oikotie.fi{link}')\n",
    "  print('-' * 40)"
   ]
  },
  {
   "cell_type": "markdown",
   "metadata": {},
   "source": [
    "***oikotie_job.py***\n",
    "* Set project to scrape every 10 minutes"
   ]
  }
 ],
 "metadata": {
  "kernelspec": {
   "display_name": ".env",
   "language": "python",
   "name": "python3"
  },
  "language_info": {
   "codemirror_mode": {
    "name": "ipython",
    "version": 3
   },
   "file_extension": ".py",
   "mimetype": "text/x-python",
   "name": "python",
   "nbconvert_exporter": "python",
   "pygments_lexer": "ipython3",
   "version": "3.12.1"
  }
 },
 "nbformat": 4,
 "nbformat_minor": 2
}
